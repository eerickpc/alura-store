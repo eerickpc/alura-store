{
  "nbformat": 4,
  "nbformat_minor": 0,
  "metadata": {
    "colab": {
      "provenance": []
    },
    "kernelspec": {
      "name": "python3",
      "display_name": "Python 3"
    },
    "language_info": {
      "name": "python"
    }
  },
  "cells": [
    {
      "cell_type": "markdown",
      "source": [
        "### Importación de datos\n",
        "\n"
      ],
      "metadata": {
        "id": "RhEdWd9YUR6H"
      }
    },
    {
      "cell_type": "code",
      "execution_count": null,
      "metadata": {
        "colab": {
          "base_uri": "https://localhost:8080/",
          "height": 206
        },
        "id": "T3EvaeQ_INIL",
        "outputId": "952599c5-bdcc-4ad8-f603-6570c5ef542c"
      },
      "outputs": [
        {
          "output_type": "execute_result",
          "data": {
            "text/plain": [
              "            Producto Categoría del Producto    Precio  Costo de envío  \\\n",
              "0  Asistente virtual           Electrónicos  164300.0          6900.0   \n",
              "1    Mesa de comedor                Muebles  192300.0          8400.0   \n",
              "2      Juego de mesa               Juguetes  209600.0         15900.0   \n",
              "3         Microondas      Electrodomésticos  757500.0         41000.0   \n",
              "4   Silla de oficina                Muebles  335200.0         20200.0   \n",
              "\n",
              "  Fecha de Compra         Vendedor Lugar de Compra  Calificación  \\\n",
              "0      16/01/2021      Pedro Gomez          Bogotá             4   \n",
              "1      18/05/2022  Beatriz Morales        Medellín             1   \n",
              "2      15/03/2021   Juan Fernandez       Cartagena             1   \n",
              "3      03/05/2022   Juan Fernandez            Cali             4   \n",
              "4      07/11/2020    Maria Alfonso        Medellín             5   \n",
              "\n",
              "       Método de pago  Cantidad de cuotas       lat       lon  \n",
              "0  Tarjeta de crédito                   8   4.60971 -74.08175  \n",
              "1  Tarjeta de crédito                   4   6.25184 -75.56359  \n",
              "2  Tarjeta de crédito                   1  10.39972 -75.51444  \n",
              "3               Nequi                   1   3.43722 -76.52250  \n",
              "4               Nequi                   1   6.25184 -75.56359  "
            ],
            "text/html": [
              "\n",
              "  <div id=\"df-0ae8d086-0f59-4ba1-8ca2-dfa7e8726937\" class=\"colab-df-container\">\n",
              "    <div>\n",
              "<style scoped>\n",
              "    .dataframe tbody tr th:only-of-type {\n",
              "        vertical-align: middle;\n",
              "    }\n",
              "\n",
              "    .dataframe tbody tr th {\n",
              "        vertical-align: top;\n",
              "    }\n",
              "\n",
              "    .dataframe thead th {\n",
              "        text-align: right;\n",
              "    }\n",
              "</style>\n",
              "<table border=\"1\" class=\"dataframe\">\n",
              "  <thead>\n",
              "    <tr style=\"text-align: right;\">\n",
              "      <th></th>\n",
              "      <th>Producto</th>\n",
              "      <th>Categoría del Producto</th>\n",
              "      <th>Precio</th>\n",
              "      <th>Costo de envío</th>\n",
              "      <th>Fecha de Compra</th>\n",
              "      <th>Vendedor</th>\n",
              "      <th>Lugar de Compra</th>\n",
              "      <th>Calificación</th>\n",
              "      <th>Método de pago</th>\n",
              "      <th>Cantidad de cuotas</th>\n",
              "      <th>lat</th>\n",
              "      <th>lon</th>\n",
              "    </tr>\n",
              "  </thead>\n",
              "  <tbody>\n",
              "    <tr>\n",
              "      <th>0</th>\n",
              "      <td>Asistente virtual</td>\n",
              "      <td>Electrónicos</td>\n",
              "      <td>164300.0</td>\n",
              "      <td>6900.0</td>\n",
              "      <td>16/01/2021</td>\n",
              "      <td>Pedro Gomez</td>\n",
              "      <td>Bogotá</td>\n",
              "      <td>4</td>\n",
              "      <td>Tarjeta de crédito</td>\n",
              "      <td>8</td>\n",
              "      <td>4.60971</td>\n",
              "      <td>-74.08175</td>\n",
              "    </tr>\n",
              "    <tr>\n",
              "      <th>1</th>\n",
              "      <td>Mesa de comedor</td>\n",
              "      <td>Muebles</td>\n",
              "      <td>192300.0</td>\n",
              "      <td>8400.0</td>\n",
              "      <td>18/05/2022</td>\n",
              "      <td>Beatriz Morales</td>\n",
              "      <td>Medellín</td>\n",
              "      <td>1</td>\n",
              "      <td>Tarjeta de crédito</td>\n",
              "      <td>4</td>\n",
              "      <td>6.25184</td>\n",
              "      <td>-75.56359</td>\n",
              "    </tr>\n",
              "    <tr>\n",
              "      <th>2</th>\n",
              "      <td>Juego de mesa</td>\n",
              "      <td>Juguetes</td>\n",
              "      <td>209600.0</td>\n",
              "      <td>15900.0</td>\n",
              "      <td>15/03/2021</td>\n",
              "      <td>Juan Fernandez</td>\n",
              "      <td>Cartagena</td>\n",
              "      <td>1</td>\n",
              "      <td>Tarjeta de crédito</td>\n",
              "      <td>1</td>\n",
              "      <td>10.39972</td>\n",
              "      <td>-75.51444</td>\n",
              "    </tr>\n",
              "    <tr>\n",
              "      <th>3</th>\n",
              "      <td>Microondas</td>\n",
              "      <td>Electrodomésticos</td>\n",
              "      <td>757500.0</td>\n",
              "      <td>41000.0</td>\n",
              "      <td>03/05/2022</td>\n",
              "      <td>Juan Fernandez</td>\n",
              "      <td>Cali</td>\n",
              "      <td>4</td>\n",
              "      <td>Nequi</td>\n",
              "      <td>1</td>\n",
              "      <td>3.43722</td>\n",
              "      <td>-76.52250</td>\n",
              "    </tr>\n",
              "    <tr>\n",
              "      <th>4</th>\n",
              "      <td>Silla de oficina</td>\n",
              "      <td>Muebles</td>\n",
              "      <td>335200.0</td>\n",
              "      <td>20200.0</td>\n",
              "      <td>07/11/2020</td>\n",
              "      <td>Maria Alfonso</td>\n",
              "      <td>Medellín</td>\n",
              "      <td>5</td>\n",
              "      <td>Nequi</td>\n",
              "      <td>1</td>\n",
              "      <td>6.25184</td>\n",
              "      <td>-75.56359</td>\n",
              "    </tr>\n",
              "  </tbody>\n",
              "</table>\n",
              "</div>\n",
              "    <div class=\"colab-df-buttons\">\n",
              "\n",
              "  <div class=\"colab-df-container\">\n",
              "    <button class=\"colab-df-convert\" onclick=\"convertToInteractive('df-0ae8d086-0f59-4ba1-8ca2-dfa7e8726937')\"\n",
              "            title=\"Convert this dataframe to an interactive table.\"\n",
              "            style=\"display:none;\">\n",
              "\n",
              "  <svg xmlns=\"http://www.w3.org/2000/svg\" height=\"24px\" viewBox=\"0 -960 960 960\">\n",
              "    <path d=\"M120-120v-720h720v720H120Zm60-500h600v-160H180v160Zm220 220h160v-160H400v160Zm0 220h160v-160H400v160ZM180-400h160v-160H180v160Zm440 0h160v-160H620v160ZM180-180h160v-160H180v160Zm440 0h160v-160H620v160Z\"/>\n",
              "  </svg>\n",
              "    </button>\n",
              "\n",
              "  <style>\n",
              "    .colab-df-container {\n",
              "      display:flex;\n",
              "      gap: 12px;\n",
              "    }\n",
              "\n",
              "    .colab-df-convert {\n",
              "      background-color: #E8F0FE;\n",
              "      border: none;\n",
              "      border-radius: 50%;\n",
              "      cursor: pointer;\n",
              "      display: none;\n",
              "      fill: #1967D2;\n",
              "      height: 32px;\n",
              "      padding: 0 0 0 0;\n",
              "      width: 32px;\n",
              "    }\n",
              "\n",
              "    .colab-df-convert:hover {\n",
              "      background-color: #E2EBFA;\n",
              "      box-shadow: 0px 1px 2px rgba(60, 64, 67, 0.3), 0px 1px 3px 1px rgba(60, 64, 67, 0.15);\n",
              "      fill: #174EA6;\n",
              "    }\n",
              "\n",
              "    .colab-df-buttons div {\n",
              "      margin-bottom: 4px;\n",
              "    }\n",
              "\n",
              "    [theme=dark] .colab-df-convert {\n",
              "      background-color: #3B4455;\n",
              "      fill: #D2E3FC;\n",
              "    }\n",
              "\n",
              "    [theme=dark] .colab-df-convert:hover {\n",
              "      background-color: #434B5C;\n",
              "      box-shadow: 0px 1px 3px 1px rgba(0, 0, 0, 0.15);\n",
              "      filter: drop-shadow(0px 1px 2px rgba(0, 0, 0, 0.3));\n",
              "      fill: #FFFFFF;\n",
              "    }\n",
              "  </style>\n",
              "\n",
              "    <script>\n",
              "      const buttonEl =\n",
              "        document.querySelector('#df-0ae8d086-0f59-4ba1-8ca2-dfa7e8726937 button.colab-df-convert');\n",
              "      buttonEl.style.display =\n",
              "        google.colab.kernel.accessAllowed ? 'block' : 'none';\n",
              "\n",
              "      async function convertToInteractive(key) {\n",
              "        const element = document.querySelector('#df-0ae8d086-0f59-4ba1-8ca2-dfa7e8726937');\n",
              "        const dataTable =\n",
              "          await google.colab.kernel.invokeFunction('convertToInteractive',\n",
              "                                                    [key], {});\n",
              "        if (!dataTable) return;\n",
              "\n",
              "        const docLinkHtml = 'Like what you see? Visit the ' +\n",
              "          '<a target=\"_blank\" href=https://colab.research.google.com/notebooks/data_table.ipynb>data table notebook</a>'\n",
              "          + ' to learn more about interactive tables.';\n",
              "        element.innerHTML = '';\n",
              "        dataTable['output_type'] = 'display_data';\n",
              "        await google.colab.output.renderOutput(dataTable, element);\n",
              "        const docLink = document.createElement('div');\n",
              "        docLink.innerHTML = docLinkHtml;\n",
              "        element.appendChild(docLink);\n",
              "      }\n",
              "    </script>\n",
              "  </div>\n",
              "\n",
              "\n",
              "    <div id=\"df-f5ce3032-6575-4510-8f1b-5a178aad3859\">\n",
              "      <button class=\"colab-df-quickchart\" onclick=\"quickchart('df-f5ce3032-6575-4510-8f1b-5a178aad3859')\"\n",
              "                title=\"Suggest charts\"\n",
              "                style=\"display:none;\">\n",
              "\n",
              "<svg xmlns=\"http://www.w3.org/2000/svg\" height=\"24px\"viewBox=\"0 0 24 24\"\n",
              "     width=\"24px\">\n",
              "    <g>\n",
              "        <path d=\"M19 3H5c-1.1 0-2 .9-2 2v14c0 1.1.9 2 2 2h14c1.1 0 2-.9 2-2V5c0-1.1-.9-2-2-2zM9 17H7v-7h2v7zm4 0h-2V7h2v10zm4 0h-2v-4h2v4z\"/>\n",
              "    </g>\n",
              "</svg>\n",
              "      </button>\n",
              "\n",
              "<style>\n",
              "  .colab-df-quickchart {\n",
              "      --bg-color: #E8F0FE;\n",
              "      --fill-color: #1967D2;\n",
              "      --hover-bg-color: #E2EBFA;\n",
              "      --hover-fill-color: #174EA6;\n",
              "      --disabled-fill-color: #AAA;\n",
              "      --disabled-bg-color: #DDD;\n",
              "  }\n",
              "\n",
              "  [theme=dark] .colab-df-quickchart {\n",
              "      --bg-color: #3B4455;\n",
              "      --fill-color: #D2E3FC;\n",
              "      --hover-bg-color: #434B5C;\n",
              "      --hover-fill-color: #FFFFFF;\n",
              "      --disabled-bg-color: #3B4455;\n",
              "      --disabled-fill-color: #666;\n",
              "  }\n",
              "\n",
              "  .colab-df-quickchart {\n",
              "    background-color: var(--bg-color);\n",
              "    border: none;\n",
              "    border-radius: 50%;\n",
              "    cursor: pointer;\n",
              "    display: none;\n",
              "    fill: var(--fill-color);\n",
              "    height: 32px;\n",
              "    padding: 0;\n",
              "    width: 32px;\n",
              "  }\n",
              "\n",
              "  .colab-df-quickchart:hover {\n",
              "    background-color: var(--hover-bg-color);\n",
              "    box-shadow: 0 1px 2px rgba(60, 64, 67, 0.3), 0 1px 3px 1px rgba(60, 64, 67, 0.15);\n",
              "    fill: var(--button-hover-fill-color);\n",
              "  }\n",
              "\n",
              "  .colab-df-quickchart-complete:disabled,\n",
              "  .colab-df-quickchart-complete:disabled:hover {\n",
              "    background-color: var(--disabled-bg-color);\n",
              "    fill: var(--disabled-fill-color);\n",
              "    box-shadow: none;\n",
              "  }\n",
              "\n",
              "  .colab-df-spinner {\n",
              "    border: 2px solid var(--fill-color);\n",
              "    border-color: transparent;\n",
              "    border-bottom-color: var(--fill-color);\n",
              "    animation:\n",
              "      spin 1s steps(1) infinite;\n",
              "  }\n",
              "\n",
              "  @keyframes spin {\n",
              "    0% {\n",
              "      border-color: transparent;\n",
              "      border-bottom-color: var(--fill-color);\n",
              "      border-left-color: var(--fill-color);\n",
              "    }\n",
              "    20% {\n",
              "      border-color: transparent;\n",
              "      border-left-color: var(--fill-color);\n",
              "      border-top-color: var(--fill-color);\n",
              "    }\n",
              "    30% {\n",
              "      border-color: transparent;\n",
              "      border-left-color: var(--fill-color);\n",
              "      border-top-color: var(--fill-color);\n",
              "      border-right-color: var(--fill-color);\n",
              "    }\n",
              "    40% {\n",
              "      border-color: transparent;\n",
              "      border-right-color: var(--fill-color);\n",
              "      border-top-color: var(--fill-color);\n",
              "    }\n",
              "    60% {\n",
              "      border-color: transparent;\n",
              "      border-right-color: var(--fill-color);\n",
              "    }\n",
              "    80% {\n",
              "      border-color: transparent;\n",
              "      border-right-color: var(--fill-color);\n",
              "      border-bottom-color: var(--fill-color);\n",
              "    }\n",
              "    90% {\n",
              "      border-color: transparent;\n",
              "      border-bottom-color: var(--fill-color);\n",
              "    }\n",
              "  }\n",
              "</style>\n",
              "\n",
              "      <script>\n",
              "        async function quickchart(key) {\n",
              "          const quickchartButtonEl =\n",
              "            document.querySelector('#' + key + ' button');\n",
              "          quickchartButtonEl.disabled = true;  // To prevent multiple clicks.\n",
              "          quickchartButtonEl.classList.add('colab-df-spinner');\n",
              "          try {\n",
              "            const charts = await google.colab.kernel.invokeFunction(\n",
              "                'suggestCharts', [key], {});\n",
              "          } catch (error) {\n",
              "            console.error('Error during call to suggestCharts:', error);\n",
              "          }\n",
              "          quickchartButtonEl.classList.remove('colab-df-spinner');\n",
              "          quickchartButtonEl.classList.add('colab-df-quickchart-complete');\n",
              "        }\n",
              "        (() => {\n",
              "          let quickchartButtonEl =\n",
              "            document.querySelector('#df-f5ce3032-6575-4510-8f1b-5a178aad3859 button');\n",
              "          quickchartButtonEl.style.display =\n",
              "            google.colab.kernel.accessAllowed ? 'block' : 'none';\n",
              "        })();\n",
              "      </script>\n",
              "    </div>\n",
              "\n",
              "    </div>\n",
              "  </div>\n"
            ],
            "application/vnd.google.colaboratory.intrinsic+json": {
              "type": "dataframe",
              "variable_name": "tienda",
              "summary": "{\n  \"name\": \"tienda\",\n  \"rows\": 2359,\n  \"fields\": [\n    {\n      \"column\": \"Producto\",\n      \"properties\": {\n        \"dtype\": \"category\",\n        \"num_unique_values\": 51,\n        \"samples\": [\n          \"Guitarra ac\\u00fastica\",\n          \"Bal\\u00f3n de baloncesto\",\n          \"Smartwatch\"\n        ],\n        \"semantic_type\": \"\",\n        \"description\": \"\"\n      }\n    },\n    {\n      \"column\": \"Categor\\u00eda del Producto\",\n      \"properties\": {\n        \"dtype\": \"category\",\n        \"num_unique_values\": 8,\n        \"samples\": [\n          \"Muebles\",\n          \"Deportes y diversi\\u00f3n\",\n          \"Electr\\u00f3nicos\"\n        ],\n        \"semantic_type\": \"\",\n        \"description\": \"\"\n      }\n    },\n    {\n      \"column\": \"Precio\",\n      \"properties\": {\n        \"dtype\": \"number\",\n        \"std\": 614686.7653873172,\n        \"min\": 7600.0,\n        \"max\": 2977000.0,\n        \"num_unique_values\": 1937,\n        \"samples\": [\n          2499400.0,\n          14800.0,\n          80500.0\n        ],\n        \"semantic_type\": \"\",\n        \"description\": \"\"\n      }\n    },\n    {\n      \"column\": \"Costo de env\\u00edo\",\n      \"properties\": {\n        \"dtype\": \"number\",\n        \"std\": 32860.0017825605,\n        \"min\": 0.0,\n        \"max\": 160800.0,\n        \"num_unique_values\": 753,\n        \"samples\": [\n          117800.0,\n          54700.0,\n          45600.0\n        ],\n        \"semantic_type\": \"\",\n        \"description\": \"\"\n      }\n    },\n    {\n      \"column\": \"Fecha de Compra\",\n      \"properties\": {\n        \"dtype\": \"object\",\n        \"num_unique_values\": 1018,\n        \"samples\": [\n          \"15/09/2022\",\n          \"03/06/2020\",\n          \"06/11/2021\"\n        ],\n        \"semantic_type\": \"\",\n        \"description\": \"\"\n      }\n    },\n    {\n      \"column\": \"Vendedor\",\n      \"properties\": {\n        \"dtype\": \"category\",\n        \"num_unique_values\": 14,\n        \"samples\": [\n          \"Juliana Costa\",\n          \"Mariana Herrera\",\n          \"Pedro Gomez\"\n        ],\n        \"semantic_type\": \"\",\n        \"description\": \"\"\n      }\n    },\n    {\n      \"column\": \"Lugar de Compra\",\n      \"properties\": {\n        \"dtype\": \"category\",\n        \"num_unique_values\": 19,\n        \"samples\": [\n          \"Bogot\\u00e1\",\n          \"Pereira\",\n          \"Neiva\"\n        ],\n        \"semantic_type\": \"\",\n        \"description\": \"\"\n      }\n    },\n    {\n      \"column\": \"Calificaci\\u00f3n\",\n      \"properties\": {\n        \"dtype\": \"number\",\n        \"std\": 1,\n        \"min\": 1,\n        \"max\": 5,\n        \"num_unique_values\": 5,\n        \"samples\": [\n          1,\n          2,\n          5\n        ],\n        \"semantic_type\": \"\",\n        \"description\": \"\"\n      }\n    },\n    {\n      \"column\": \"M\\u00e9todo de pago\",\n      \"properties\": {\n        \"dtype\": \"category\",\n        \"num_unique_values\": 4,\n        \"samples\": [\n          \"Nequi\",\n          \"Tarjeta de d\\u00e9bito\",\n          \"Tarjeta de cr\\u00e9dito\"\n        ],\n        \"semantic_type\": \"\",\n        \"description\": \"\"\n      }\n    },\n    {\n      \"column\": \"Cantidad de cuotas\",\n      \"properties\": {\n        \"dtype\": \"number\",\n        \"std\": 2,\n        \"min\": 1,\n        \"max\": 24,\n        \"num_unique_values\": 15,\n        \"samples\": [\n          7,\n          14,\n          8\n        ],\n        \"semantic_type\": \"\",\n        \"description\": \"\"\n      }\n    },\n    {\n      \"column\": \"lat\",\n      \"properties\": {\n        \"dtype\": \"number\",\n        \"std\": 2.2874452492678627,\n        \"min\": -4.21528,\n        \"max\": 11.54444,\n        \"num_unique_values\": 19,\n        \"samples\": [\n          4.60971,\n          4.81333,\n          2.9273\n        ],\n        \"semantic_type\": \"\",\n        \"description\": \"\"\n      }\n    },\n    {\n      \"column\": \"lon\",\n      \"properties\": {\n        \"dtype\": \"number\",\n        \"std\": 1.2178272727088486,\n        \"min\": -77.28111,\n        \"max\": -67.9239,\n        \"num_unique_values\": 19,\n        \"samples\": [\n          -74.08175,\n          -75.69611,\n          -75.28189\n        ],\n        \"semantic_type\": \"\",\n        \"description\": \"\"\n      }\n    }\n  ]\n}"
            }
          },
          "metadata": {},
          "execution_count": 1
        }
      ],
      "source": [
        "import pandas as pd\n",
        "import matplotlib.pyplot as plt\n",
        "\n",
        "\n",
        "url = \"https://raw.githubusercontent.com/alura-es-cursos/challenge1-data-science-latam/refs/heads/main/base-de-datos-challenge1-latam/tienda_1%20.csv\"\n",
        "url2 = \"https://raw.githubusercontent.com/alura-es-cursos/challenge1-data-science-latam/refs/heads/main/base-de-datos-challenge1-latam/tienda_2.csv\"\n",
        "url3 = \"https://raw.githubusercontent.com/alura-es-cursos/challenge1-data-science-latam/refs/heads/main/base-de-datos-challenge1-latam/tienda_3.csv\"\n",
        "url4 = \"https://raw.githubusercontent.com/alura-es-cursos/challenge1-data-science-latam/refs/heads/main/base-de-datos-challenge1-latam/tienda_4.csv\"\n",
        "\n",
        "tienda = pd.read_csv(url)\n",
        "tienda2 = pd.read_csv(url2)\n",
        "tienda3 = pd.read_csv(url3)\n",
        "tienda4 = pd.read_csv(url4)\n",
        "\n",
        "tienda.head()"
      ]
    },
    {
      "cell_type": "markdown",
      "source": [
        "#1. Análisis de facturación\n",
        "\n"
      ],
      "metadata": {
        "id": "X62IW3KFUIYm"
      }
    },
    {
      "cell_type": "code",
      "source": [
        "# Sumar ingresos totales en la columna precio de cada tienda mediante la funcion sum\n",
        "ventas_tienda_1 = sum(tienda['Precio'])\n",
        "ventas_tienda_2 = sum(tienda2['Precio'])\n",
        "ventas_tienda_3 = sum(tienda3['Precio'])\n",
        "ventas_tienda_4 = sum(tienda4['Precio'])"
      ],
      "metadata": {
        "id": "xykobSftV64I"
      },
      "execution_count": null,
      "outputs": []
    },
    {
      "cell_type": "code",
      "source": [],
      "metadata": {
        "id": "KDyr8E71V3m-"
      },
      "execution_count": null,
      "outputs": []
    },
    {
      "cell_type": "markdown",
      "source": [
        "# 2. Ventas por categoría"
      ],
      "metadata": {
        "id": "2V_vcAPzWZmR"
      }
    },
    {
      "cell_type": "code",
      "source": [
        "#.value_counts cuenta cuantas veces está el mismo valor en la columna\n",
        "ventas_categorias_tienda1 = tienda.groupby(\"Categoría del Producto\")[\"Precio\"].sum()\n",
        "ventas_categorias_tienda2 = tienda2.groupby(\"Categoría del Producto\")[\"Precio\"].sum()\n",
        "ventas_categorias_tienda3 = tienda3.groupby(\"Categoría del Producto\")[\"Precio\"].sum()\n",
        "ventas_categorias_tienda4 = tienda4.groupby(\"Categoría del Producto\")[\"Precio\"].sum()"
      ],
      "metadata": {
        "id": "A34YupIuYhfF"
      },
      "execution_count": null,
      "outputs": []
    },
    {
      "cell_type": "code",
      "source": [
        "# Mostrar las categorías, sin valores\n",
        "print(\"Mejores 3 categorías de cada tienda\")\n",
        "print(\"Tienda 1: \",ventas_categorias_tienda1.nlargest(3).index.to_list())\n",
        "print(\"Tienda 2: \",ventas_categorias_tienda2.nlargest(3).index.to_list())\n",
        "print(\"Tienda 3: \",ventas_categorias_tienda3.nlargest(3).index.to_list())\n",
        "print(\"Tienda 4: \",ventas_categorias_tienda4.nlargest(3).index.to_list())"
      ],
      "metadata": {
        "id": "yZR6cOjXYSk1",
        "colab": {
          "base_uri": "https://localhost:8080/"
        },
        "outputId": "27924cca-f398-4533-9cf3-83aef1267c0c"
      },
      "execution_count": null,
      "outputs": [
        {
          "output_type": "stream",
          "name": "stdout",
          "text": [
            "Mejores 3 categorías de cada tienda\n",
            "Tienda 1:  ['Electrónicos', 'Electrodomésticos', 'Muebles']\n",
            "Tienda 2:  ['Electrónicos', 'Electrodomésticos', 'Muebles']\n",
            "Tienda 3:  ['Electrónicos', 'Electrodomésticos', 'Muebles']\n",
            "Tienda 4:  ['Electrónicos', 'Electrodomésticos', 'Muebles']\n"
          ]
        }
      ]
    },
    {
      "cell_type": "markdown",
      "source": [
        "# 3. Calificación promedio de la tienda\n"
      ],
      "metadata": {
        "id": "Rq6tU_xSY3jk"
      }
    },
    {
      "cell_type": "code",
      "source": [
        "calificacion_promedio_tienda1 = tienda[\"Calificación\"].mean().round(2)\n",
        "calificacion_promedio_tienda2 = tienda2[\"Calificación\"].mean().round(2)\n",
        "calificacion_promedio_tienda3 = tienda3[\"Calificación\"].mean().round(2)\n",
        "calificacion_promedio_tienda4 = tienda4[\"Calificación\"].mean().round(2)\n",
        "calificaciones_promedio = [calificacion_promedio_tienda1, calificacion_promedio_tienda2, calificacion_promedio_tienda3, calificacion_promedio_tienda4]"
      ],
      "metadata": {
        "id": "bh3jjjJwY5MU"
      },
      "execution_count": null,
      "outputs": []
    },
    {
      "cell_type": "code",
      "source": [
        "print(\"La tienda 1 tiene calificación promedio de\",calificacion_promedio_tienda1)\n",
        "print(\"La tienda 2 tiene calificación promedio de\",calificacion_promedio_tienda2)\n",
        "print(\"La tienda 3 tiene calificación promedio de\",calificacion_promedio_tienda3)\n",
        "print(\"La tienda 4 tiene calificación promedio de\",calificacion_promedio_tienda4)\n",
        "print(\"La mayor calificación es de la tienda\",calificaciones_promedio.index(max(calificaciones_promedio))+1, \"con\",max(calificaciones_promedio))"
      ],
      "metadata": {
        "id": "I0KkjPoTY88F",
        "colab": {
          "base_uri": "https://localhost:8080/"
        },
        "outputId": "9a085c2b-5de4-435b-9475-8bcecf3576bb"
      },
      "execution_count": null,
      "outputs": [
        {
          "output_type": "stream",
          "name": "stdout",
          "text": [
            "La tienda 1 tiene calificación promedio de 3.98\n",
            "La tienda 2 tiene calificación promedio de 4.04\n",
            "La tienda 3 tiene calificación promedio de 4.05\n",
            "La tienda 4 tiene calificación promedio de 4.0\n",
            "La mayor calificación es de la tienda 3 con 4.05\n"
          ]
        }
      ]
    },
    {
      "cell_type": "markdown",
      "source": [
        "# 4. Productos más y menos vendidos"
      ],
      "metadata": {
        "id": "DmNp1KPBZCm-"
      }
    },
    {
      "cell_type": "code",
      "source": [
        "# Mas y menos vendidos de tienda 1, contar cada producto por separado y hacer una lista con producto,cantidad de los 5 mayores\n",
        "productos_vendidos_tienda1 = tienda[\"Producto\"].value_counts()\n",
        "productos_vendidos_mayores_tienda1 = list(zip(productos_vendidos_tienda1.nlargest(5).index.tolist(), productos_vendidos_tienda1.nlargest(5).tolist()))\n",
        "productos_vendidos_menores_tienda1 = list(zip(productos_vendidos_tienda1.nsmallest(5).index.tolist(), productos_vendidos_tienda1.nsmallest(5).tolist()))\n",
        "print(\"Tienda 1\")\n",
        "print(productos_vendidos_mayores_tienda1)\n",
        "print(productos_vendidos_menores_tienda1)\n",
        "\n",
        "# Mas y menos vendidos de tienda 2, contar cada producto por separado y hacer una lista con producto,cantidad de los 5 mayores\n",
        "productos_vendidos_tienda2 = tienda2[\"Producto\"].value_counts()\n",
        "productos_vendidos_mayores_tienda2 = list(zip(productos_vendidos_tienda2.nlargest(5).index.tolist(), productos_vendidos_tienda2.nlargest(5).tolist()))\n",
        "productos_vendidos_menores_tienda2 = list(zip(productos_vendidos_tienda2.nsmallest(5).index.tolist(), productos_vendidos_tienda2.nsmallest(5).tolist()))\n",
        "print(\"\\nTienda 2\")\n",
        "print(productos_vendidos_mayores_tienda2)\n",
        "print(productos_vendidos_menores_tienda2)\n",
        "\n",
        "# Mas y menos vendidos de tienda 3, contar cada producto por separado y hacer una lista con producto,cantidad de los 5 mayores\n",
        "productos_vendidos_tienda3 = tienda3[\"Producto\"].value_counts()\n",
        "productos_vendidos_mayores_tienda3 = list(zip(productos_vendidos_tienda3.nlargest(5).index.tolist(), productos_vendidos_tienda3.nlargest(5).tolist()))\n",
        "productos_vendidos_menores_tienda3 = list(zip(productos_vendidos_tienda3.nsmallest(5).index.tolist(), productos_vendidos_tienda3.nsmallest(5).tolist()))\n",
        "\n",
        "print(\"\\nTienda 3\")\n",
        "print(productos_vendidos_mayores_tienda3)\n",
        "print(productos_vendidos_menores_tienda3)\n",
        "\n",
        "# Mas y menos vendidos de tienda 4, contar cada producto por separado y hacer una lista con producto,cantidad de los 5 mayores\n",
        "productos_vendidos_tienda4 = tienda4[\"Producto\"].value_counts()\n",
        "productos_vendidos_mayores_tienda4 = list(zip(productos_vendidos_tienda4.nlargest(5).index.tolist(), productos_vendidos_tienda4.nlargest(5).tolist()))\n",
        "productos_vendidos_menores_tienda4 = list(zip(productos_vendidos_tienda4.nsmallest(5).index.tolist(), productos_vendidos_tienda4.nsmallest(5).tolist()))\n",
        "\n",
        "print(\"\\nTienda 4\")\n",
        "print(productos_vendidos_mayores_tienda4)\n",
        "print(productos_vendidos_menores_tienda4)"
      ],
      "metadata": {
        "id": "qoyjqijQZHfF",
        "colab": {
          "base_uri": "https://localhost:8080/"
        },
        "outputId": "3ccecdc2-0ff0-4268-c4b1-02f86899b45c"
      },
      "execution_count": null,
      "outputs": [
        {
          "output_type": "stream",
          "name": "stdout",
          "text": [
            "Tienda 1\n",
            "[('Microondas', 60), ('TV LED UHD 4K', 60), ('Armario', 60), ('Secadora de ropa', 58), ('Mesa de noche', 56)]\n",
            "[('Auriculares con micrófono', 33), ('Celular ABXY', 33), ('Olla de presión', 35), ('Pandereta', 36), ('Mochila', 39)]\n",
            "\n",
            "Tienda 2\n",
            "[('Iniciando en programación', 65), ('Microondas', 62), ('Batería', 61), ('Guitarra acústica', 58), ('Pandereta', 58)]\n",
            "[('Juego de mesa', 32), ('Mesa de comedor', 34), ('Impresora', 34), ('Sillón', 35), ('Auriculares', 37)]\n",
            "\n",
            "Tienda 3\n",
            "[('Kit de bancas', 57), ('Mesa de comedor', 56), ('Cama king', 56), ('Set de ollas', 55), ('Mesa de noche', 55)]\n",
            "[('Bloques de construcción', 35), ('Set de vasos', 36), ('Mochila', 36), ('Microondas', 36), ('Vaso térmico', 38)]\n",
            "\n",
            "Tienda 4\n",
            "[('Cama box', 62), ('Cubertería', 59), ('Dashboards con Power BI', 56), ('Cama king', 56), ('Carrito de control remoto', 55)]\n",
            "[('Guitarra eléctrica', 33), ('Armario', 34), ('Guitarra acústica', 37), ('Lavadora de ropa', 38), ('Refrigerador', 38)]\n"
          ]
        }
      ]
    },
    {
      "cell_type": "markdown",
      "source": [
        "# 5. Envío promedio por tienda"
      ],
      "metadata": {
        "id": "Fl0cGi3bZKqU"
      }
    },
    {
      "cell_type": "code",
      "source": [
        "envio_promedio_tienda1 = sum(tienda[\"Costo de envío\"]) / len(tienda[[\"Producto\"]])\n",
        "envio_promedio_tienda2 = sum(tienda2[\"Costo de envío\"]) / len(tienda2[[\"Producto\"]])\n",
        "envio_promedio_tienda3 = sum(tienda3[\"Costo de envío\"]) / len(tienda3[[\"Producto\"]])\n",
        "envio_promedio_tienda4 = sum(tienda4[\"Costo de envío\"]) / len(tienda4[[\"Producto\"]])"
      ],
      "metadata": {
        "id": "S2JeaCykZNy9"
      },
      "execution_count": null,
      "outputs": []
    },
    {
      "cell_type": "code",
      "source": [
        "print(f\"Envio tienda 1: ${envio_promedio_tienda1:.2f}\")\n",
        "print(f\"Envio tienda 2: ${envio_promedio_tienda2:.2f}\")\n",
        "print(f\"Envio tienda 3: ${envio_promedio_tienda3:.2f}\")\n",
        "print(f\"Envio tienda 4: ${envio_promedio_tienda4:.2f}\")"
      ],
      "metadata": {
        "id": "0tSdCie9ZQlt",
        "colab": {
          "base_uri": "https://localhost:8080/"
        },
        "outputId": "7b2e39b8-4e41-47ae-c3eb-57d5de8ec18f"
      },
      "execution_count": null,
      "outputs": [
        {
          "output_type": "stream",
          "name": "stdout",
          "text": [
            "Envio tienda 1: $26018.61\n",
            "Envio tienda 2: $25216.24\n",
            "Envio tienda 3: $24805.68\n",
            "Envio tienda 4: $23459.46\n"
          ]
        }
      ]
    },
    {
      "cell_type": "code",
      "source": [
        "# CONCLUSIONES Y GRÁFICOS"
      ],
      "metadata": {
        "id": "RxQLtaCnpWVF"
      },
      "execution_count": null,
      "outputs": []
    },
    {
      "cell_type": "code",
      "source": [
        "# GRAFICA DE INGRESOS DE CADA TIENDA\n",
        "# Hacer una gráfica mediante matplotlib, ajustando el valor de las ventas para que se muestre correctamente\n",
        "tiendas_grafica = [\"Tienda 1\", \"Tienda 2\", \"Tienda 3\", \"Tienda 4\"]\n",
        "lista_ventas = [ventas_tienda_1, ventas_tienda_2, ventas_tienda_3, ventas_tienda_4]\n",
        "print(f\"Ingresos de las tiendas: {lista_ventas}\")\n",
        "graficar_ventas = [venta/1000000 for venta in lista_ventas]\n",
        "#Ajustar ventas para mostrar en la gráfica\n",
        "\n",
        "plt.bar(tiendas_grafica, graficar_ventas, color=\"lightgreen\")\n",
        "plt.ylabel(\"INGRESOS EN MILLONES \")\n",
        "plt.title(\"INGRESOS TOTALES DE LAS TIENDAS\")\n",
        "plt.show()"
      ],
      "metadata": {
        "id": "G7NSfkl1pWSv",
        "colab": {
          "base_uri": "https://localhost:8080/",
          "height": 469
        },
        "outputId": "f3ef110f-b6d3-4891-efcd-684877b8df1d"
      },
      "execution_count": null,
      "outputs": [
        {
          "output_type": "stream",
          "name": "stdout",
          "text": [
            "Ingresos de las tiendas: [1150880400.0, 1116343500.0, 1098019600.0, 1038375700.0]\n"
          ]
        },
        {
          "output_type": "display_data",
          "data": {
            "text/plain": [
              "<Figure size 640x480 with 1 Axes>"
            ],
            "image/png": "[encoded data removed]"
          },
          "metadata": {}
        }
      ]
    },
    {
      "cell_type": "code",
      "source": [
        "def calcularPorcentaje(valor, ventas):\n",
        "  return ((valor/ventas)*100)\n",
        "\n",
        "ventas = [ventas_tienda_1, ventas_tienda_2, ventas_tienda_3, ventas_tienda_4]\n",
        "titulosGrafica = [\"Tienda 1\", \"Tienda 2\", \"Tienda 3\", \"Tienda 4\"]\n",
        "ventasTotales = sum(ventas)\n",
        "porcentajes = [calcularPorcentaje(tienda, ventasTotales) for tienda in ventas]\n",
        "plt.pie(porcentajes, labels=titulosGrafica, autopct=\"%1.1f%%\")\n",
        "plt.axis(\"equal\")\n",
        "plt.title(\"PORCENTAJE DE INGRESOS QUE REPRESENTA CADA TIENDA\")\n",
        "plt.show()"
      ],
      "metadata": {
        "id": "WkI_B3pppWQ2",
        "colab": {
          "base_uri": "https://localhost:8080/",
          "height": 428
        },
        "outputId": "eef5f251-8c3f-4e18-8f93-7bc2f3364295"
      },
      "execution_count": null,
      "outputs": [
        {
          "output_type": "display_data",
          "data": {
            "text/plain": [
              "<Figure size 640x480 with 1 Axes>"
            ],
            "image/png": "[encoded data removed]"
          },
          "metadata": {}
        }
      ]
    },
    {
      "cell_type": "code",
      "source": [
        "plt.plot(titulosGrafica, calificaciones_promedio, marker='o')\n",
        "plt.title(\"CALIFICACIONES PROMEDIO DE LAS TIENDAS\")\n",
        "plt.ylabel(\"CALIFICACION\")\n",
        "plt.show()"
      ],
      "metadata": {
        "id": "VTH2uHhOpWOo",
        "colab": {
          "base_uri": "https://localhost:8080/",
          "height": 452
        },
        "outputId": "7333616b-40d4-4575-babf-d7273f2c332b"
      },
      "execution_count": null,
      "outputs": [
        {
          "output_type": "display_data",
          "data": {
            "text/plain": [
              "<Figure size 640x480 with 1 Axes>"
            ],
            "image/png": "[encoded data removed]"
          },
          "metadata": {}
        }
      ]
    },
    {
      "cell_type": "markdown",
      "source": [
        "### Conclusiones finales\n",
        "El proposito de este análisis a las cuatro tiendas es para lograr tomar la decisión sobre cual tienda debería ser vendida y cuales mantener.\n",
        "\n",
        "Durante el análisis se obtuvieron diversos datos de la tienda, el dato más importante fue obtenido según mi criterio, es sobre los ingresos de las tiendas y las calificaciónes promedio de los clientes. Los ingresos promedio fueron estos:\n",
        "\n",
        "Tienda 1: $1150880400.0\n",
        "\n",
        "Tienda 2: $1116343500.0\n",
        "\n",
        "Tienda 3: $1098019600.0\n",
        "\n",
        "Tienda 4: $1038375700.0\n",
        "\n",
        "Se puede observar que la tienda 4 es la que menor cantidad de ingresos representa, abarca el 23.6% de los ingresos totales de todas las tiendas.\n",
        "En cuanto a las calificaciones promedio, la tienda con menor calificación es la tienda 1, sin embargo, es la que mayores ingresos tiene, la segunda con menor calificación es la tienda 4, la de menores ingresos, esta tienda 4 es la que menor costo de envío promedio tiene, cosa que es atractiva para los clientes, pero el costo de envío bajo no compensa los ingresos totales de la tienda.\n",
        "\n",
        "Tomando en cuenta esta información y viendo los gráficos presentados anteriormente, se llegó a la conclusión que la mejor opción de tienda para vender sería la tienda número 4, ya que es la que menor ingreso representa y no es de las mejores en calificación promedio."
      ],
      "metadata": {
        "id": "kU3hl7R-KKN1"
      }
    },
    {
      "cell_type": "code",
      "source": [],
      "metadata": {
        "id": "Zauaex8iKvLo"
      },
      "execution_count": null,
      "outputs": []
    }
  ]
}